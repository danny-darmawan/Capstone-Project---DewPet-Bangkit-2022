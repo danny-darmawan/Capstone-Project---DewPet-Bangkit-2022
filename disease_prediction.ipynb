{
  "nbformat": 4,
  "nbformat_minor": 0,
  "metadata": {
    "colab": {
      "name": "disease_prediction",
      "provenance": [],
      "authorship_tag": "ABX9TyPnQFJa7mxjvQNShA7echnU",
      "include_colab_link": true
    },
    "kernelspec": {
      "name": "python3",
      "display_name": "Python 3"
    },
    "language_info": {
      "name": "python"
    }
  },
  "cells": [
    {
      "cell_type": "markdown",
      "metadata": {
        "id": "view-in-github",
        "colab_type": "text"
      },
      "source": [
        "<a href=\"https://colab.research.google.com/github/luthfialghz/Capstone-Project---DewPet-Bangkit-2022/blob/machine_learning/disease_prediction.ipynb\" target=\"_parent\"><img src=\"https://colab.research.google.com/assets/colab-badge.svg\" alt=\"Open In Colab\"/></a>"
      ]
    },
    {
      "cell_type": "code",
      "execution_count": 1,
      "metadata": {
        "id": "ADegyhMfwv9l"
      },
      "outputs": [],
      "source": [
        "import tensorflow as tf\n",
        "import pandas as pd\n",
        "import numpy as np\n",
        "from sklearn.preprocessing import LabelEncoder"
      ]
    },
    {
      "cell_type": "code",
      "source": [
        "dataframe = pd.read_csv('project_dataset.csv')\n",
        "dataframe.head()"
      ],
      "metadata": {
        "colab": {
          "base_uri": "https://localhost:8080/",
          "height": 438
        },
        "id": "L3ZjlvrdxKCc",
        "outputId": "8a777059-eab5-4d21-9ec4-df6708aab1ff"
      },
      "execution_count": 2,
      "outputs": [
        {
          "output_type": "execute_result",
          "data": {
            "text/plain": [
              "   Abdominal Pain  Abnormal Elevation of Inner Eyelid  \\\n",
              "0               0                                   0   \n",
              "1               0                                   0   \n",
              "2               0                                   0   \n",
              "3               0                                   0   \n",
              "4               0                                   0   \n",
              "\n",
              "   Abnormal Coloration of One or More Teeth  Abnormal Posture  \\\n",
              "0                                         0                 0   \n",
              "1                                         0                 0   \n",
              "2                                         0                 0   \n",
              "3                                         0                 0   \n",
              "4                                         0                 0   \n",
              "\n",
              "   Abnormal Nail Color  Bad Odor  Bad Breath  Bleeding  Bleeding Gums  \\\n",
              "0                    0         0           0         0              0   \n",
              "1                    0         0           0         0              0   \n",
              "2                    0         0           0         0              0   \n",
              "3                    0         1           0         0              0   \n",
              "4                    0         1           0         0              0   \n",
              "\n",
              "   Blood in Urine/Feses  ...  Squinting  Seizures  Unwillingness to Move  \\\n",
              "0                     0  ...          0         0                      0   \n",
              "1                     0  ...          0         0                      0   \n",
              "2                     0  ...          0         0                      0   \n",
              "3                     0  ...          0         0                      0   \n",
              "4                     0  ...          0         0                      0   \n",
              "\n",
              "   Vomiting  Vision Loss/Blindness  Weight Loss  Whitish-appearing Pupil  \\\n",
              "0         0                      0            0                        0   \n",
              "1         0                      0            0                        0   \n",
              "2         0                      0            0                        0   \n",
              "3         0                      0            0                        0   \n",
              "4         0                      0            0                        0   \n",
              "\n",
              "   Yeasty Smell  Animal Type      Diagnosis  \n",
              "0             0          Dog  Ear Hematomas  \n",
              "1             0          Dog  Ear Hematomas  \n",
              "2             0          Dog  Ear Hematomas  \n",
              "3             0          Dog  Ear Hematomas  \n",
              "4             0          Dog  Ear Hematomas  \n",
              "\n",
              "[5 rows x 93 columns]"
            ],
            "text/html": [
              "\n",
              "  <div id=\"df-c4e2bba6-e855-4eb3-b1d4-c50b3146e01e\">\n",
              "    <div class=\"colab-df-container\">\n",
              "      <div>\n",
              "<style scoped>\n",
              "    .dataframe tbody tr th:only-of-type {\n",
              "        vertical-align: middle;\n",
              "    }\n",
              "\n",
              "    .dataframe tbody tr th {\n",
              "        vertical-align: top;\n",
              "    }\n",
              "\n",
              "    .dataframe thead th {\n",
              "        text-align: right;\n",
              "    }\n",
              "</style>\n",
              "<table border=\"1\" class=\"dataframe\">\n",
              "  <thead>\n",
              "    <tr style=\"text-align: right;\">\n",
              "      <th></th>\n",
              "      <th>Abdominal Pain</th>\n",
              "      <th>Abnormal Elevation of Inner Eyelid</th>\n",
              "      <th>Abnormal Coloration of One or More Teeth</th>\n",
              "      <th>Abnormal Posture</th>\n",
              "      <th>Abnormal Nail Color</th>\n",
              "      <th>Bad Odor</th>\n",
              "      <th>Bad Breath</th>\n",
              "      <th>Bleeding</th>\n",
              "      <th>Bleeding Gums</th>\n",
              "      <th>Blood in Urine/Feses</th>\n",
              "      <th>...</th>\n",
              "      <th>Squinting</th>\n",
              "      <th>Seizures</th>\n",
              "      <th>Unwillingness to Move</th>\n",
              "      <th>Vomiting</th>\n",
              "      <th>Vision Loss/Blindness</th>\n",
              "      <th>Weight Loss</th>\n",
              "      <th>Whitish-appearing Pupil</th>\n",
              "      <th>Yeasty Smell</th>\n",
              "      <th>Animal Type</th>\n",
              "      <th>Diagnosis</th>\n",
              "    </tr>\n",
              "  </thead>\n",
              "  <tbody>\n",
              "    <tr>\n",
              "      <th>0</th>\n",
              "      <td>0</td>\n",
              "      <td>0</td>\n",
              "      <td>0</td>\n",
              "      <td>0</td>\n",
              "      <td>0</td>\n",
              "      <td>0</td>\n",
              "      <td>0</td>\n",
              "      <td>0</td>\n",
              "      <td>0</td>\n",
              "      <td>0</td>\n",
              "      <td>...</td>\n",
              "      <td>0</td>\n",
              "      <td>0</td>\n",
              "      <td>0</td>\n",
              "      <td>0</td>\n",
              "      <td>0</td>\n",
              "      <td>0</td>\n",
              "      <td>0</td>\n",
              "      <td>0</td>\n",
              "      <td>Dog</td>\n",
              "      <td>Ear Hematomas</td>\n",
              "    </tr>\n",
              "    <tr>\n",
              "      <th>1</th>\n",
              "      <td>0</td>\n",
              "      <td>0</td>\n",
              "      <td>0</td>\n",
              "      <td>0</td>\n",
              "      <td>0</td>\n",
              "      <td>0</td>\n",
              "      <td>0</td>\n",
              "      <td>0</td>\n",
              "      <td>0</td>\n",
              "      <td>0</td>\n",
              "      <td>...</td>\n",
              "      <td>0</td>\n",
              "      <td>0</td>\n",
              "      <td>0</td>\n",
              "      <td>0</td>\n",
              "      <td>0</td>\n",
              "      <td>0</td>\n",
              "      <td>0</td>\n",
              "      <td>0</td>\n",
              "      <td>Dog</td>\n",
              "      <td>Ear Hematomas</td>\n",
              "    </tr>\n",
              "    <tr>\n",
              "      <th>2</th>\n",
              "      <td>0</td>\n",
              "      <td>0</td>\n",
              "      <td>0</td>\n",
              "      <td>0</td>\n",
              "      <td>0</td>\n",
              "      <td>0</td>\n",
              "      <td>0</td>\n",
              "      <td>0</td>\n",
              "      <td>0</td>\n",
              "      <td>0</td>\n",
              "      <td>...</td>\n",
              "      <td>0</td>\n",
              "      <td>0</td>\n",
              "      <td>0</td>\n",
              "      <td>0</td>\n",
              "      <td>0</td>\n",
              "      <td>0</td>\n",
              "      <td>0</td>\n",
              "      <td>0</td>\n",
              "      <td>Dog</td>\n",
              "      <td>Ear Hematomas</td>\n",
              "    </tr>\n",
              "    <tr>\n",
              "      <th>3</th>\n",
              "      <td>0</td>\n",
              "      <td>0</td>\n",
              "      <td>0</td>\n",
              "      <td>0</td>\n",
              "      <td>0</td>\n",
              "      <td>1</td>\n",
              "      <td>0</td>\n",
              "      <td>0</td>\n",
              "      <td>0</td>\n",
              "      <td>0</td>\n",
              "      <td>...</td>\n",
              "      <td>0</td>\n",
              "      <td>0</td>\n",
              "      <td>0</td>\n",
              "      <td>0</td>\n",
              "      <td>0</td>\n",
              "      <td>0</td>\n",
              "      <td>0</td>\n",
              "      <td>0</td>\n",
              "      <td>Dog</td>\n",
              "      <td>Ear Hematomas</td>\n",
              "    </tr>\n",
              "    <tr>\n",
              "      <th>4</th>\n",
              "      <td>0</td>\n",
              "      <td>0</td>\n",
              "      <td>0</td>\n",
              "      <td>0</td>\n",
              "      <td>0</td>\n",
              "      <td>1</td>\n",
              "      <td>0</td>\n",
              "      <td>0</td>\n",
              "      <td>0</td>\n",
              "      <td>0</td>\n",
              "      <td>...</td>\n",
              "      <td>0</td>\n",
              "      <td>0</td>\n",
              "      <td>0</td>\n",
              "      <td>0</td>\n",
              "      <td>0</td>\n",
              "      <td>0</td>\n",
              "      <td>0</td>\n",
              "      <td>0</td>\n",
              "      <td>Dog</td>\n",
              "      <td>Ear Hematomas</td>\n",
              "    </tr>\n",
              "  </tbody>\n",
              "</table>\n",
              "<p>5 rows × 93 columns</p>\n",
              "</div>\n",
              "      <button class=\"colab-df-convert\" onclick=\"convertToInteractive('df-c4e2bba6-e855-4eb3-b1d4-c50b3146e01e')\"\n",
              "              title=\"Convert this dataframe to an interactive table.\"\n",
              "              style=\"display:none;\">\n",
              "        \n",
              "  <svg xmlns=\"http://www.w3.org/2000/svg\" height=\"24px\"viewBox=\"0 0 24 24\"\n",
              "       width=\"24px\">\n",
              "    <path d=\"M0 0h24v24H0V0z\" fill=\"none\"/>\n",
              "    <path d=\"M18.56 5.44l.94 2.06.94-2.06 2.06-.94-2.06-.94-.94-2.06-.94 2.06-2.06.94zm-11 1L8.5 8.5l.94-2.06 2.06-.94-2.06-.94L8.5 2.5l-.94 2.06-2.06.94zm10 10l.94 2.06.94-2.06 2.06-.94-2.06-.94-.94-2.06-.94 2.06-2.06.94z\"/><path d=\"M17.41 7.96l-1.37-1.37c-.4-.4-.92-.59-1.43-.59-.52 0-1.04.2-1.43.59L10.3 9.45l-7.72 7.72c-.78.78-.78 2.05 0 2.83L4 21.41c.39.39.9.59 1.41.59.51 0 1.02-.2 1.41-.59l7.78-7.78 2.81-2.81c.8-.78.8-2.07 0-2.86zM5.41 20L4 18.59l7.72-7.72 1.47 1.35L5.41 20z\"/>\n",
              "  </svg>\n",
              "      </button>\n",
              "      \n",
              "  <style>\n",
              "    .colab-df-container {\n",
              "      display:flex;\n",
              "      flex-wrap:wrap;\n",
              "      gap: 12px;\n",
              "    }\n",
              "\n",
              "    .colab-df-convert {\n",
              "      background-color: #E8F0FE;\n",
              "      border: none;\n",
              "      border-radius: 50%;\n",
              "      cursor: pointer;\n",
              "      display: none;\n",
              "      fill: #1967D2;\n",
              "      height: 32px;\n",
              "      padding: 0 0 0 0;\n",
              "      width: 32px;\n",
              "    }\n",
              "\n",
              "    .colab-df-convert:hover {\n",
              "      background-color: #E2EBFA;\n",
              "      box-shadow: 0px 1px 2px rgba(60, 64, 67, 0.3), 0px 1px 3px 1px rgba(60, 64, 67, 0.15);\n",
              "      fill: #174EA6;\n",
              "    }\n",
              "\n",
              "    [theme=dark] .colab-df-convert {\n",
              "      background-color: #3B4455;\n",
              "      fill: #D2E3FC;\n",
              "    }\n",
              "\n",
              "    [theme=dark] .colab-df-convert:hover {\n",
              "      background-color: #434B5C;\n",
              "      box-shadow: 0px 1px 3px 1px rgba(0, 0, 0, 0.15);\n",
              "      filter: drop-shadow(0px 1px 2px rgba(0, 0, 0, 0.3));\n",
              "      fill: #FFFFFF;\n",
              "    }\n",
              "  </style>\n",
              "\n",
              "      <script>\n",
              "        const buttonEl =\n",
              "          document.querySelector('#df-c4e2bba6-e855-4eb3-b1d4-c50b3146e01e button.colab-df-convert');\n",
              "        buttonEl.style.display =\n",
              "          google.colab.kernel.accessAllowed ? 'block' : 'none';\n",
              "\n",
              "        async function convertToInteractive(key) {\n",
              "          const element = document.querySelector('#df-c4e2bba6-e855-4eb3-b1d4-c50b3146e01e');\n",
              "          const dataTable =\n",
              "            await google.colab.kernel.invokeFunction('convertToInteractive',\n",
              "                                                     [key], {});\n",
              "          if (!dataTable) return;\n",
              "\n",
              "          const docLinkHtml = 'Like what you see? Visit the ' +\n",
              "            '<a target=\"_blank\" href=https://colab.research.google.com/notebooks/data_table.ipynb>data table notebook</a>'\n",
              "            + ' to learn more about interactive tables.';\n",
              "          element.innerHTML = '';\n",
              "          dataTable['output_type'] = 'display_data';\n",
              "          await google.colab.output.renderOutput(dataTable, element);\n",
              "          const docLink = document.createElement('div');\n",
              "          docLink.innerHTML = docLinkHtml;\n",
              "          element.appendChild(docLink);\n",
              "        }\n",
              "      </script>\n",
              "    </div>\n",
              "  </div>\n",
              "  "
            ]
          },
          "metadata": {},
          "execution_count": 2
        }
      ]
    },
    {
      "cell_type": "code",
      "source": [
        "traintest = dataframe.copy()\n",
        "#traintest.drop(['Animal Type'], axis=1, inplace=True)\n",
        "traintest.head()"
      ],
      "metadata": {
        "colab": {
          "base_uri": "https://localhost:8080/",
          "height": 438
        },
        "id": "yKPkqr0nxPCx",
        "outputId": "a80c34e8-dd1e-4852-8823-b2ed2296274f"
      },
      "execution_count": 3,
      "outputs": [
        {
          "output_type": "execute_result",
          "data": {
            "text/plain": [
              "   Abdominal Pain  Abnormal Elevation of Inner Eyelid  \\\n",
              "0               0                                   0   \n",
              "1               0                                   0   \n",
              "2               0                                   0   \n",
              "3               0                                   0   \n",
              "4               0                                   0   \n",
              "\n",
              "   Abnormal Coloration of One or More Teeth  Abnormal Posture  \\\n",
              "0                                         0                 0   \n",
              "1                                         0                 0   \n",
              "2                                         0                 0   \n",
              "3                                         0                 0   \n",
              "4                                         0                 0   \n",
              "\n",
              "   Abnormal Nail Color  Bad Odor  Bad Breath  Bleeding  Bleeding Gums  \\\n",
              "0                    0         0           0         0              0   \n",
              "1                    0         0           0         0              0   \n",
              "2                    0         0           0         0              0   \n",
              "3                    0         1           0         0              0   \n",
              "4                    0         1           0         0              0   \n",
              "\n",
              "   Blood in Urine/Feses  ...  Squinting  Seizures  Unwillingness to Move  \\\n",
              "0                     0  ...          0         0                      0   \n",
              "1                     0  ...          0         0                      0   \n",
              "2                     0  ...          0         0                      0   \n",
              "3                     0  ...          0         0                      0   \n",
              "4                     0  ...          0         0                      0   \n",
              "\n",
              "   Vomiting  Vision Loss/Blindness  Weight Loss  Whitish-appearing Pupil  \\\n",
              "0         0                      0            0                        0   \n",
              "1         0                      0            0                        0   \n",
              "2         0                      0            0                        0   \n",
              "3         0                      0            0                        0   \n",
              "4         0                      0            0                        0   \n",
              "\n",
              "   Yeasty Smell  Animal Type      Diagnosis  \n",
              "0             0          Dog  Ear Hematomas  \n",
              "1             0          Dog  Ear Hematomas  \n",
              "2             0          Dog  Ear Hematomas  \n",
              "3             0          Dog  Ear Hematomas  \n",
              "4             0          Dog  Ear Hematomas  \n",
              "\n",
              "[5 rows x 93 columns]"
            ],
            "text/html": [
              "\n",
              "  <div id=\"df-379d4da5-89d8-41ab-88fc-c4ab9d294fc8\">\n",
              "    <div class=\"colab-df-container\">\n",
              "      <div>\n",
              "<style scoped>\n",
              "    .dataframe tbody tr th:only-of-type {\n",
              "        vertical-align: middle;\n",
              "    }\n",
              "\n",
              "    .dataframe tbody tr th {\n",
              "        vertical-align: top;\n",
              "    }\n",
              "\n",
              "    .dataframe thead th {\n",
              "        text-align: right;\n",
              "    }\n",
              "</style>\n",
              "<table border=\"1\" class=\"dataframe\">\n",
              "  <thead>\n",
              "    <tr style=\"text-align: right;\">\n",
              "      <th></th>\n",
              "      <th>Abdominal Pain</th>\n",
              "      <th>Abnormal Elevation of Inner Eyelid</th>\n",
              "      <th>Abnormal Coloration of One or More Teeth</th>\n",
              "      <th>Abnormal Posture</th>\n",
              "      <th>Abnormal Nail Color</th>\n",
              "      <th>Bad Odor</th>\n",
              "      <th>Bad Breath</th>\n",
              "      <th>Bleeding</th>\n",
              "      <th>Bleeding Gums</th>\n",
              "      <th>Blood in Urine/Feses</th>\n",
              "      <th>...</th>\n",
              "      <th>Squinting</th>\n",
              "      <th>Seizures</th>\n",
              "      <th>Unwillingness to Move</th>\n",
              "      <th>Vomiting</th>\n",
              "      <th>Vision Loss/Blindness</th>\n",
              "      <th>Weight Loss</th>\n",
              "      <th>Whitish-appearing Pupil</th>\n",
              "      <th>Yeasty Smell</th>\n",
              "      <th>Animal Type</th>\n",
              "      <th>Diagnosis</th>\n",
              "    </tr>\n",
              "  </thead>\n",
              "  <tbody>\n",
              "    <tr>\n",
              "      <th>0</th>\n",
              "      <td>0</td>\n",
              "      <td>0</td>\n",
              "      <td>0</td>\n",
              "      <td>0</td>\n",
              "      <td>0</td>\n",
              "      <td>0</td>\n",
              "      <td>0</td>\n",
              "      <td>0</td>\n",
              "      <td>0</td>\n",
              "      <td>0</td>\n",
              "      <td>...</td>\n",
              "      <td>0</td>\n",
              "      <td>0</td>\n",
              "      <td>0</td>\n",
              "      <td>0</td>\n",
              "      <td>0</td>\n",
              "      <td>0</td>\n",
              "      <td>0</td>\n",
              "      <td>0</td>\n",
              "      <td>Dog</td>\n",
              "      <td>Ear Hematomas</td>\n",
              "    </tr>\n",
              "    <tr>\n",
              "      <th>1</th>\n",
              "      <td>0</td>\n",
              "      <td>0</td>\n",
              "      <td>0</td>\n",
              "      <td>0</td>\n",
              "      <td>0</td>\n",
              "      <td>0</td>\n",
              "      <td>0</td>\n",
              "      <td>0</td>\n",
              "      <td>0</td>\n",
              "      <td>0</td>\n",
              "      <td>...</td>\n",
              "      <td>0</td>\n",
              "      <td>0</td>\n",
              "      <td>0</td>\n",
              "      <td>0</td>\n",
              "      <td>0</td>\n",
              "      <td>0</td>\n",
              "      <td>0</td>\n",
              "      <td>0</td>\n",
              "      <td>Dog</td>\n",
              "      <td>Ear Hematomas</td>\n",
              "    </tr>\n",
              "    <tr>\n",
              "      <th>2</th>\n",
              "      <td>0</td>\n",
              "      <td>0</td>\n",
              "      <td>0</td>\n",
              "      <td>0</td>\n",
              "      <td>0</td>\n",
              "      <td>0</td>\n",
              "      <td>0</td>\n",
              "      <td>0</td>\n",
              "      <td>0</td>\n",
              "      <td>0</td>\n",
              "      <td>...</td>\n",
              "      <td>0</td>\n",
              "      <td>0</td>\n",
              "      <td>0</td>\n",
              "      <td>0</td>\n",
              "      <td>0</td>\n",
              "      <td>0</td>\n",
              "      <td>0</td>\n",
              "      <td>0</td>\n",
              "      <td>Dog</td>\n",
              "      <td>Ear Hematomas</td>\n",
              "    </tr>\n",
              "    <tr>\n",
              "      <th>3</th>\n",
              "      <td>0</td>\n",
              "      <td>0</td>\n",
              "      <td>0</td>\n",
              "      <td>0</td>\n",
              "      <td>0</td>\n",
              "      <td>1</td>\n",
              "      <td>0</td>\n",
              "      <td>0</td>\n",
              "      <td>0</td>\n",
              "      <td>0</td>\n",
              "      <td>...</td>\n",
              "      <td>0</td>\n",
              "      <td>0</td>\n",
              "      <td>0</td>\n",
              "      <td>0</td>\n",
              "      <td>0</td>\n",
              "      <td>0</td>\n",
              "      <td>0</td>\n",
              "      <td>0</td>\n",
              "      <td>Dog</td>\n",
              "      <td>Ear Hematomas</td>\n",
              "    </tr>\n",
              "    <tr>\n",
              "      <th>4</th>\n",
              "      <td>0</td>\n",
              "      <td>0</td>\n",
              "      <td>0</td>\n",
              "      <td>0</td>\n",
              "      <td>0</td>\n",
              "      <td>1</td>\n",
              "      <td>0</td>\n",
              "      <td>0</td>\n",
              "      <td>0</td>\n",
              "      <td>0</td>\n",
              "      <td>...</td>\n",
              "      <td>0</td>\n",
              "      <td>0</td>\n",
              "      <td>0</td>\n",
              "      <td>0</td>\n",
              "      <td>0</td>\n",
              "      <td>0</td>\n",
              "      <td>0</td>\n",
              "      <td>0</td>\n",
              "      <td>Dog</td>\n",
              "      <td>Ear Hematomas</td>\n",
              "    </tr>\n",
              "  </tbody>\n",
              "</table>\n",
              "<p>5 rows × 93 columns</p>\n",
              "</div>\n",
              "      <button class=\"colab-df-convert\" onclick=\"convertToInteractive('df-379d4da5-89d8-41ab-88fc-c4ab9d294fc8')\"\n",
              "              title=\"Convert this dataframe to an interactive table.\"\n",
              "              style=\"display:none;\">\n",
              "        \n",
              "  <svg xmlns=\"http://www.w3.org/2000/svg\" height=\"24px\"viewBox=\"0 0 24 24\"\n",
              "       width=\"24px\">\n",
              "    <path d=\"M0 0h24v24H0V0z\" fill=\"none\"/>\n",
              "    <path d=\"M18.56 5.44l.94 2.06.94-2.06 2.06-.94-2.06-.94-.94-2.06-.94 2.06-2.06.94zm-11 1L8.5 8.5l.94-2.06 2.06-.94-2.06-.94L8.5 2.5l-.94 2.06-2.06.94zm10 10l.94 2.06.94-2.06 2.06-.94-2.06-.94-.94-2.06-.94 2.06-2.06.94z\"/><path d=\"M17.41 7.96l-1.37-1.37c-.4-.4-.92-.59-1.43-.59-.52 0-1.04.2-1.43.59L10.3 9.45l-7.72 7.72c-.78.78-.78 2.05 0 2.83L4 21.41c.39.39.9.59 1.41.59.51 0 1.02-.2 1.41-.59l7.78-7.78 2.81-2.81c.8-.78.8-2.07 0-2.86zM5.41 20L4 18.59l7.72-7.72 1.47 1.35L5.41 20z\"/>\n",
              "  </svg>\n",
              "      </button>\n",
              "      \n",
              "  <style>\n",
              "    .colab-df-container {\n",
              "      display:flex;\n",
              "      flex-wrap:wrap;\n",
              "      gap: 12px;\n",
              "    }\n",
              "\n",
              "    .colab-df-convert {\n",
              "      background-color: #E8F0FE;\n",
              "      border: none;\n",
              "      border-radius: 50%;\n",
              "      cursor: pointer;\n",
              "      display: none;\n",
              "      fill: #1967D2;\n",
              "      height: 32px;\n",
              "      padding: 0 0 0 0;\n",
              "      width: 32px;\n",
              "    }\n",
              "\n",
              "    .colab-df-convert:hover {\n",
              "      background-color: #E2EBFA;\n",
              "      box-shadow: 0px 1px 2px rgba(60, 64, 67, 0.3), 0px 1px 3px 1px rgba(60, 64, 67, 0.15);\n",
              "      fill: #174EA6;\n",
              "    }\n",
              "\n",
              "    [theme=dark] .colab-df-convert {\n",
              "      background-color: #3B4455;\n",
              "      fill: #D2E3FC;\n",
              "    }\n",
              "\n",
              "    [theme=dark] .colab-df-convert:hover {\n",
              "      background-color: #434B5C;\n",
              "      box-shadow: 0px 1px 3px 1px rgba(0, 0, 0, 0.15);\n",
              "      filter: drop-shadow(0px 1px 2px rgba(0, 0, 0, 0.3));\n",
              "      fill: #FFFFFF;\n",
              "    }\n",
              "  </style>\n",
              "\n",
              "      <script>\n",
              "        const buttonEl =\n",
              "          document.querySelector('#df-379d4da5-89d8-41ab-88fc-c4ab9d294fc8 button.colab-df-convert');\n",
              "        buttonEl.style.display =\n",
              "          google.colab.kernel.accessAllowed ? 'block' : 'none';\n",
              "\n",
              "        async function convertToInteractive(key) {\n",
              "          const element = document.querySelector('#df-379d4da5-89d8-41ab-88fc-c4ab9d294fc8');\n",
              "          const dataTable =\n",
              "            await google.colab.kernel.invokeFunction('convertToInteractive',\n",
              "                                                     [key], {});\n",
              "          if (!dataTable) return;\n",
              "\n",
              "          const docLinkHtml = 'Like what you see? Visit the ' +\n",
              "            '<a target=\"_blank\" href=https://colab.research.google.com/notebooks/data_table.ipynb>data table notebook</a>'\n",
              "            + ' to learn more about interactive tables.';\n",
              "          element.innerHTML = '';\n",
              "          dataTable['output_type'] = 'display_data';\n",
              "          await google.colab.output.renderOutput(dataTable, element);\n",
              "          const docLink = document.createElement('div');\n",
              "          docLink.innerHTML = docLinkHtml;\n",
              "          element.appendChild(docLink);\n",
              "        }\n",
              "      </script>\n",
              "    </div>\n",
              "  </div>\n",
              "  "
            ]
          },
          "metadata": {},
          "execution_count": 3
        }
      ]
    },
    {
      "cell_type": "code",
      "source": [
        "label_encoder = LabelEncoder()\n",
        "traintest.loc[:,\"Animal Type\"] = label_encoder.fit_transform(traintest.iloc[:,-2])"
      ],
      "metadata": {
        "id": "fZ27X8UQbyaa"
      },
      "execution_count": 4,
      "outputs": []
    },
    {
      "cell_type": "code",
      "source": [
        "X = traintest.drop(['Diagnosis'], axis=1)\n",
        "Y = traintest['Diagnosis']\n",
        "X.head()"
      ],
      "metadata": {
        "colab": {
          "base_uri": "https://localhost:8080/",
          "height": 352
        },
        "id": "ZLI4t4Nexx6k",
        "outputId": "ce1298bf-6fca-4a72-f644-9e7e47aada43"
      },
      "execution_count": 5,
      "outputs": [
        {
          "output_type": "execute_result",
          "data": {
            "text/plain": [
              "   Abdominal Pain  Abnormal Elevation of Inner Eyelid  \\\n",
              "0               0                                   0   \n",
              "1               0                                   0   \n",
              "2               0                                   0   \n",
              "3               0                                   0   \n",
              "4               0                                   0   \n",
              "\n",
              "   Abnormal Coloration of One or More Teeth  Abnormal Posture  \\\n",
              "0                                         0                 0   \n",
              "1                                         0                 0   \n",
              "2                                         0                 0   \n",
              "3                                         0                 0   \n",
              "4                                         0                 0   \n",
              "\n",
              "   Abnormal Nail Color  Bad Odor  Bad Breath  Bleeding  Bleeding Gums  \\\n",
              "0                    0         0           0         0              0   \n",
              "1                    0         0           0         0              0   \n",
              "2                    0         0           0         0              0   \n",
              "3                    0         1           0         0              0   \n",
              "4                    0         1           0         0              0   \n",
              "\n",
              "   Blood in Urine/Feses  ...  Swelling  Squinting  Seizures  \\\n",
              "0                     0  ...         0          0         0   \n",
              "1                     0  ...         0          0         0   \n",
              "2                     0  ...         0          0         0   \n",
              "3                     0  ...         0          0         0   \n",
              "4                     0  ...         0          0         0   \n",
              "\n",
              "   Unwillingness to Move  Vomiting  Vision Loss/Blindness  Weight Loss  \\\n",
              "0                      0         0                      0            0   \n",
              "1                      0         0                      0            0   \n",
              "2                      0         0                      0            0   \n",
              "3                      0         0                      0            0   \n",
              "4                      0         0                      0            0   \n",
              "\n",
              "   Whitish-appearing Pupil  Yeasty Smell  Animal Type  \n",
              "0                        0             0            1  \n",
              "1                        0             0            1  \n",
              "2                        0             0            1  \n",
              "3                        0             0            1  \n",
              "4                        0             0            1  \n",
              "\n",
              "[5 rows x 92 columns]"
            ],
            "text/html": [
              "\n",
              "  <div id=\"df-eb70f5d2-e7dc-48f0-adbe-ea711c2718d9\">\n",
              "    <div class=\"colab-df-container\">\n",
              "      <div>\n",
              "<style scoped>\n",
              "    .dataframe tbody tr th:only-of-type {\n",
              "        vertical-align: middle;\n",
              "    }\n",
              "\n",
              "    .dataframe tbody tr th {\n",
              "        vertical-align: top;\n",
              "    }\n",
              "\n",
              "    .dataframe thead th {\n",
              "        text-align: right;\n",
              "    }\n",
              "</style>\n",
              "<table border=\"1\" class=\"dataframe\">\n",
              "  <thead>\n",
              "    <tr style=\"text-align: right;\">\n",
              "      <th></th>\n",
              "      <th>Abdominal Pain</th>\n",
              "      <th>Abnormal Elevation of Inner Eyelid</th>\n",
              "      <th>Abnormal Coloration of One or More Teeth</th>\n",
              "      <th>Abnormal Posture</th>\n",
              "      <th>Abnormal Nail Color</th>\n",
              "      <th>Bad Odor</th>\n",
              "      <th>Bad Breath</th>\n",
              "      <th>Bleeding</th>\n",
              "      <th>Bleeding Gums</th>\n",
              "      <th>Blood in Urine/Feses</th>\n",
              "      <th>...</th>\n",
              "      <th>Swelling</th>\n",
              "      <th>Squinting</th>\n",
              "      <th>Seizures</th>\n",
              "      <th>Unwillingness to Move</th>\n",
              "      <th>Vomiting</th>\n",
              "      <th>Vision Loss/Blindness</th>\n",
              "      <th>Weight Loss</th>\n",
              "      <th>Whitish-appearing Pupil</th>\n",
              "      <th>Yeasty Smell</th>\n",
              "      <th>Animal Type</th>\n",
              "    </tr>\n",
              "  </thead>\n",
              "  <tbody>\n",
              "    <tr>\n",
              "      <th>0</th>\n",
              "      <td>0</td>\n",
              "      <td>0</td>\n",
              "      <td>0</td>\n",
              "      <td>0</td>\n",
              "      <td>0</td>\n",
              "      <td>0</td>\n",
              "      <td>0</td>\n",
              "      <td>0</td>\n",
              "      <td>0</td>\n",
              "      <td>0</td>\n",
              "      <td>...</td>\n",
              "      <td>0</td>\n",
              "      <td>0</td>\n",
              "      <td>0</td>\n",
              "      <td>0</td>\n",
              "      <td>0</td>\n",
              "      <td>0</td>\n",
              "      <td>0</td>\n",
              "      <td>0</td>\n",
              "      <td>0</td>\n",
              "      <td>1</td>\n",
              "    </tr>\n",
              "    <tr>\n",
              "      <th>1</th>\n",
              "      <td>0</td>\n",
              "      <td>0</td>\n",
              "      <td>0</td>\n",
              "      <td>0</td>\n",
              "      <td>0</td>\n",
              "      <td>0</td>\n",
              "      <td>0</td>\n",
              "      <td>0</td>\n",
              "      <td>0</td>\n",
              "      <td>0</td>\n",
              "      <td>...</td>\n",
              "      <td>0</td>\n",
              "      <td>0</td>\n",
              "      <td>0</td>\n",
              "      <td>0</td>\n",
              "      <td>0</td>\n",
              "      <td>0</td>\n",
              "      <td>0</td>\n",
              "      <td>0</td>\n",
              "      <td>0</td>\n",
              "      <td>1</td>\n",
              "    </tr>\n",
              "    <tr>\n",
              "      <th>2</th>\n",
              "      <td>0</td>\n",
              "      <td>0</td>\n",
              "      <td>0</td>\n",
              "      <td>0</td>\n",
              "      <td>0</td>\n",
              "      <td>0</td>\n",
              "      <td>0</td>\n",
              "      <td>0</td>\n",
              "      <td>0</td>\n",
              "      <td>0</td>\n",
              "      <td>...</td>\n",
              "      <td>0</td>\n",
              "      <td>0</td>\n",
              "      <td>0</td>\n",
              "      <td>0</td>\n",
              "      <td>0</td>\n",
              "      <td>0</td>\n",
              "      <td>0</td>\n",
              "      <td>0</td>\n",
              "      <td>0</td>\n",
              "      <td>1</td>\n",
              "    </tr>\n",
              "    <tr>\n",
              "      <th>3</th>\n",
              "      <td>0</td>\n",
              "      <td>0</td>\n",
              "      <td>0</td>\n",
              "      <td>0</td>\n",
              "      <td>0</td>\n",
              "      <td>1</td>\n",
              "      <td>0</td>\n",
              "      <td>0</td>\n",
              "      <td>0</td>\n",
              "      <td>0</td>\n",
              "      <td>...</td>\n",
              "      <td>0</td>\n",
              "      <td>0</td>\n",
              "      <td>0</td>\n",
              "      <td>0</td>\n",
              "      <td>0</td>\n",
              "      <td>0</td>\n",
              "      <td>0</td>\n",
              "      <td>0</td>\n",
              "      <td>0</td>\n",
              "      <td>1</td>\n",
              "    </tr>\n",
              "    <tr>\n",
              "      <th>4</th>\n",
              "      <td>0</td>\n",
              "      <td>0</td>\n",
              "      <td>0</td>\n",
              "      <td>0</td>\n",
              "      <td>0</td>\n",
              "      <td>1</td>\n",
              "      <td>0</td>\n",
              "      <td>0</td>\n",
              "      <td>0</td>\n",
              "      <td>0</td>\n",
              "      <td>...</td>\n",
              "      <td>0</td>\n",
              "      <td>0</td>\n",
              "      <td>0</td>\n",
              "      <td>0</td>\n",
              "      <td>0</td>\n",
              "      <td>0</td>\n",
              "      <td>0</td>\n",
              "      <td>0</td>\n",
              "      <td>0</td>\n",
              "      <td>1</td>\n",
              "    </tr>\n",
              "  </tbody>\n",
              "</table>\n",
              "<p>5 rows × 92 columns</p>\n",
              "</div>\n",
              "      <button class=\"colab-df-convert\" onclick=\"convertToInteractive('df-eb70f5d2-e7dc-48f0-adbe-ea711c2718d9')\"\n",
              "              title=\"Convert this dataframe to an interactive table.\"\n",
              "              style=\"display:none;\">\n",
              "        \n",
              "  <svg xmlns=\"http://www.w3.org/2000/svg\" height=\"24px\"viewBox=\"0 0 24 24\"\n",
              "       width=\"24px\">\n",
              "    <path d=\"M0 0h24v24H0V0z\" fill=\"none\"/>\n",
              "    <path d=\"M18.56 5.44l.94 2.06.94-2.06 2.06-.94-2.06-.94-.94-2.06-.94 2.06-2.06.94zm-11 1L8.5 8.5l.94-2.06 2.06-.94-2.06-.94L8.5 2.5l-.94 2.06-2.06.94zm10 10l.94 2.06.94-2.06 2.06-.94-2.06-.94-.94-2.06-.94 2.06-2.06.94z\"/><path d=\"M17.41 7.96l-1.37-1.37c-.4-.4-.92-.59-1.43-.59-.52 0-1.04.2-1.43.59L10.3 9.45l-7.72 7.72c-.78.78-.78 2.05 0 2.83L4 21.41c.39.39.9.59 1.41.59.51 0 1.02-.2 1.41-.59l7.78-7.78 2.81-2.81c.8-.78.8-2.07 0-2.86zM5.41 20L4 18.59l7.72-7.72 1.47 1.35L5.41 20z\"/>\n",
              "  </svg>\n",
              "      </button>\n",
              "      \n",
              "  <style>\n",
              "    .colab-df-container {\n",
              "      display:flex;\n",
              "      flex-wrap:wrap;\n",
              "      gap: 12px;\n",
              "    }\n",
              "\n",
              "    .colab-df-convert {\n",
              "      background-color: #E8F0FE;\n",
              "      border: none;\n",
              "      border-radius: 50%;\n",
              "      cursor: pointer;\n",
              "      display: none;\n",
              "      fill: #1967D2;\n",
              "      height: 32px;\n",
              "      padding: 0 0 0 0;\n",
              "      width: 32px;\n",
              "    }\n",
              "\n",
              "    .colab-df-convert:hover {\n",
              "      background-color: #E2EBFA;\n",
              "      box-shadow: 0px 1px 2px rgba(60, 64, 67, 0.3), 0px 1px 3px 1px rgba(60, 64, 67, 0.15);\n",
              "      fill: #174EA6;\n",
              "    }\n",
              "\n",
              "    [theme=dark] .colab-df-convert {\n",
              "      background-color: #3B4455;\n",
              "      fill: #D2E3FC;\n",
              "    }\n",
              "\n",
              "    [theme=dark] .colab-df-convert:hover {\n",
              "      background-color: #434B5C;\n",
              "      box-shadow: 0px 1px 3px 1px rgba(0, 0, 0, 0.15);\n",
              "      filter: drop-shadow(0px 1px 2px rgba(0, 0, 0, 0.3));\n",
              "      fill: #FFFFFF;\n",
              "    }\n",
              "  </style>\n",
              "\n",
              "      <script>\n",
              "        const buttonEl =\n",
              "          document.querySelector('#df-eb70f5d2-e7dc-48f0-adbe-ea711c2718d9 button.colab-df-convert');\n",
              "        buttonEl.style.display =\n",
              "          google.colab.kernel.accessAllowed ? 'block' : 'none';\n",
              "\n",
              "        async function convertToInteractive(key) {\n",
              "          const element = document.querySelector('#df-eb70f5d2-e7dc-48f0-adbe-ea711c2718d9');\n",
              "          const dataTable =\n",
              "            await google.colab.kernel.invokeFunction('convertToInteractive',\n",
              "                                                     [key], {});\n",
              "          if (!dataTable) return;\n",
              "\n",
              "          const docLinkHtml = 'Like what you see? Visit the ' +\n",
              "            '<a target=\"_blank\" href=https://colab.research.google.com/notebooks/data_table.ipynb>data table notebook</a>'\n",
              "            + ' to learn more about interactive tables.';\n",
              "          element.innerHTML = '';\n",
              "          dataTable['output_type'] = 'display_data';\n",
              "          await google.colab.output.renderOutput(dataTable, element);\n",
              "          const docLink = document.createElement('div');\n",
              "          docLink.innerHTML = docLinkHtml;\n",
              "          element.appendChild(docLink);\n",
              "        }\n",
              "      </script>\n",
              "    </div>\n",
              "  </div>\n",
              "  "
            ]
          },
          "metadata": {},
          "execution_count": 5
        }
      ]
    },
    {
      "cell_type": "code",
      "source": [
        "X_train = X.iloc[:-56,:]\n",
        "X_test = X.iloc[-56:,:]\n",
        "\n",
        "Y_train = Y.iloc[:-56]\n",
        "Y_test = Y.iloc[-56:]"
      ],
      "metadata": {
        "id": "o4AHRrF8ybIU"
      },
      "execution_count": 6,
      "outputs": []
    },
    {
      "cell_type": "code",
      "source": [
        "X_train.shape"
      ],
      "metadata": {
        "colab": {
          "base_uri": "https://localhost:8080/"
        },
        "id": "kZJ5IvrcZA6f",
        "outputId": "fbfa9bcd-4c5e-4641-8d71-86deb71d3d5a"
      },
      "execution_count": null,
      "outputs": [
        {
          "output_type": "execute_result",
          "data": {
            "text/plain": [
              "(345, 92)"
            ]
          },
          "metadata": {},
          "execution_count": 49
        }
      ]
    },
    {
      "cell_type": "code",
      "source": [
        "Y_train.nunique()"
      ],
      "metadata": {
        "colab": {
          "base_uri": "https://localhost:8080/"
        },
        "id": "G4PXO3vQzNS2",
        "outputId": "2ad87a68-1115-45ec-f344-e6df8f45e3c9"
      },
      "execution_count": 7,
      "outputs": [
        {
          "output_type": "execute_result",
          "data": {
            "text/plain": [
              "52"
            ]
          },
          "metadata": {},
          "execution_count": 7
        }
      ]
    },
    {
      "cell_type": "code",
      "source": [
        "Y_test.nunique()"
      ],
      "metadata": {
        "colab": {
          "base_uri": "https://localhost:8080/"
        },
        "id": "jHqTFdkPzmHr",
        "outputId": "1e650136-a298-42d9-8364-888f3dd8ba40"
      },
      "execution_count": 8,
      "outputs": [
        {
          "output_type": "execute_result",
          "data": {
            "text/plain": [
              "52"
            ]
          },
          "metadata": {},
          "execution_count": 8
        }
      ]
    },
    {
      "cell_type": "code",
      "source": [
        "Y_train_encode = pd.get_dummies(Y_train)\n",
        "Y_train_encode.shape"
      ],
      "metadata": {
        "colab": {
          "base_uri": "https://localhost:8080/"
        },
        "id": "i2UaJJWKzrKi",
        "outputId": "73038d66-9524-4f35-a057-89903de768c3"
      },
      "execution_count": 9,
      "outputs": [
        {
          "output_type": "execute_result",
          "data": {
            "text/plain": [
              "(348, 52)"
            ]
          },
          "metadata": {},
          "execution_count": 9
        }
      ]
    },
    {
      "cell_type": "code",
      "source": [
        "Y_test_encode = pd.get_dummies(Y_test)"
      ],
      "metadata": {
        "id": "sehS_DAYATXo"
      },
      "execution_count": 10,
      "outputs": []
    },
    {
      "cell_type": "code",
      "source": [
        "model = tf.keras.models.Sequential([\n",
        "    #tf.keras.layers.Flatten(),\n",
        "    #tf.keras.layers.Dense(64, activation='relu', input_dim=x_train.shape[1]),\n",
        "    tf.keras.layers.Dense(128, activation='relu', input_shape = (X_train.shape[1], )),\n",
        "    tf.keras.layers.Dense(64, activation='relu'),\n",
        "    tf.keras.layers.Dense(64, activation='relu'),\n",
        "    #tf.keras.layers.Dense(256, activation='relu'),\n",
        "    tf.keras.layers.Dense(Y_train_encode.shape[1], activation='softmax')\n",
        "])\n"
      ],
      "metadata": {
        "id": "BMsQSje9AVHH"
      },
      "execution_count": 23,
      "outputs": []
    },
    {
      "cell_type": "code",
      "source": [
        "model.compile(loss=tf.keras.losses.CategoricalCrossentropy(), optimizer=tf.optimizers.Adam(), metrics=['accuracy'])"
      ],
      "metadata": {
        "id": "hlDYurPYAbX8"
      },
      "execution_count": 24,
      "outputs": []
    },
    {
      "cell_type": "code",
      "source": [
        "# train model\n",
        "history = model.fit(X_train, Y_train_encode, epochs=25, validation_split=0.2)"
      ],
      "metadata": {
        "colab": {
          "base_uri": "https://localhost:8080/"
        },
        "id": "p_fmGRlyAfUg",
        "outputId": "07b7a50d-6250-4aed-a06d-6d64f618db4b"
      },
      "execution_count": 25,
      "outputs": [
        {
          "output_type": "stream",
          "name": "stdout",
          "text": [
            "Epoch 1/25\n",
            "9/9 [==============================] - 1s 27ms/step - loss: 3.8942 - accuracy: 0.0971 - val_loss: 3.8311 - val_accuracy: 0.1857\n",
            "Epoch 2/25\n",
            "9/9 [==============================] - 0s 5ms/step - loss: 3.7404 - accuracy: 0.3022 - val_loss: 3.6898 - val_accuracy: 0.1857\n",
            "Epoch 3/25\n",
            "9/9 [==============================] - 0s 7ms/step - loss: 3.5239 - accuracy: 0.3381 - val_loss: 3.4833 - val_accuracy: 0.2000\n",
            "Epoch 4/25\n",
            "9/9 [==============================] - 0s 5ms/step - loss: 3.2200 - accuracy: 0.3273 - val_loss: 3.2374 - val_accuracy: 0.2286\n",
            "Epoch 5/25\n",
            "9/9 [==============================] - 0s 7ms/step - loss: 2.8807 - accuracy: 0.3094 - val_loss: 3.0236 - val_accuracy: 0.2429\n",
            "Epoch 6/25\n",
            "9/9 [==============================] - 0s 7ms/step - loss: 2.5616 - accuracy: 0.3993 - val_loss: 2.7592 - val_accuracy: 0.3143\n",
            "Epoch 7/25\n",
            "9/9 [==============================] - 0s 5ms/step - loss: 2.2675 - accuracy: 0.4496 - val_loss: 2.4563 - val_accuracy: 0.3429\n",
            "Epoch 8/25\n",
            "9/9 [==============================] - 0s 7ms/step - loss: 1.9859 - accuracy: 0.5144 - val_loss: 2.1516 - val_accuracy: 0.4571\n",
            "Epoch 9/25\n",
            "9/9 [==============================] - 0s 5ms/step - loss: 1.7091 - accuracy: 0.5827 - val_loss: 1.8427 - val_accuracy: 0.5571\n",
            "Epoch 10/25\n",
            "9/9 [==============================] - 0s 7ms/step - loss: 1.4470 - accuracy: 0.6691 - val_loss: 1.5380 - val_accuracy: 0.6429\n",
            "Epoch 11/25\n",
            "9/9 [==============================] - 0s 5ms/step - loss: 1.1924 - accuracy: 0.7302 - val_loss: 1.2519 - val_accuracy: 0.7286\n",
            "Epoch 12/25\n",
            "9/9 [==============================] - 0s 8ms/step - loss: 0.9679 - accuracy: 0.7842 - val_loss: 0.9805 - val_accuracy: 0.7857\n",
            "Epoch 13/25\n",
            "9/9 [==============================] - 0s 7ms/step - loss: 0.7573 - accuracy: 0.8309 - val_loss: 0.7664 - val_accuracy: 0.8286\n",
            "Epoch 14/25\n",
            "9/9 [==============================] - 0s 7ms/step - loss: 0.5869 - accuracy: 0.8849 - val_loss: 0.6043 - val_accuracy: 0.8714\n",
            "Epoch 15/25\n",
            "9/9 [==============================] - 0s 5ms/step - loss: 0.4570 - accuracy: 0.9173 - val_loss: 0.4698 - val_accuracy: 0.9143\n",
            "Epoch 16/25\n",
            "9/9 [==============================] - 0s 8ms/step - loss: 0.3648 - accuracy: 0.9281 - val_loss: 0.3775 - val_accuracy: 0.9286\n",
            "Epoch 17/25\n",
            "9/9 [==============================] - 0s 7ms/step - loss: 0.2947 - accuracy: 0.9353 - val_loss: 0.3200 - val_accuracy: 0.9143\n",
            "Epoch 18/25\n",
            "9/9 [==============================] - 0s 7ms/step - loss: 0.2464 - accuracy: 0.9209 - val_loss: 0.2732 - val_accuracy: 0.9286\n",
            "Epoch 19/25\n",
            "9/9 [==============================] - 0s 7ms/step - loss: 0.2140 - accuracy: 0.9424 - val_loss: 0.2428 - val_accuracy: 0.9286\n",
            "Epoch 20/25\n",
            "9/9 [==============================] - 0s 5ms/step - loss: 0.1892 - accuracy: 0.9424 - val_loss: 0.2200 - val_accuracy: 0.9286\n",
            "Epoch 21/25\n",
            "9/9 [==============================] - 0s 7ms/step - loss: 0.1871 - accuracy: 0.9353 - val_loss: 0.2036 - val_accuracy: 0.9286\n",
            "Epoch 22/25\n",
            "9/9 [==============================] - 0s 7ms/step - loss: 0.1546 - accuracy: 0.9460 - val_loss: 0.1958 - val_accuracy: 0.9286\n",
            "Epoch 23/25\n",
            "9/9 [==============================] - 0s 5ms/step - loss: 0.1558 - accuracy: 0.9388 - val_loss: 0.1745 - val_accuracy: 0.9286\n",
            "Epoch 24/25\n",
            "9/9 [==============================] - 0s 5ms/step - loss: 0.1456 - accuracy: 0.9424 - val_loss: 0.1699 - val_accuracy: 0.9286\n",
            "Epoch 25/25\n",
            "9/9 [==============================] - 0s 5ms/step - loss: 0.1293 - accuracy: 0.9460 - val_loss: 0.1651 - val_accuracy: 0.9286\n"
          ]
        }
      ]
    },
    {
      "cell_type": "code",
      "source": [
        "import matplotlib.pyplot as plt\n",
        "plt.plot(history.history[\"accuracy\"])\n",
        "plt.title(\"Model accuracy\")\n",
        "plt.xlabel(\"Epoch\")\n",
        "plt.ylabel(\"Accuracy score\")\n",
        "plt.show()"
      ],
      "metadata": {
        "colab": {
          "base_uri": "https://localhost:8080/",
          "height": 295
        },
        "id": "3dAQbfAKUGpm",
        "outputId": "242b2713-19b0-4fa6-9b8e-526f33f4cf39"
      },
      "execution_count": 26,
      "outputs": [
        {
          "output_type": "display_data",
          "data": {
            "text/plain": [
              "<Figure size 432x288 with 1 Axes>"
            ],
            "image/png": "[encoded data removed]"
          },
          "metadata": {
            "needs_background": "light"
          }
        }
      ]
    },
    {
      "cell_type": "code",
      "source": [
        "plt.plot(history.history[\"loss\"])\n",
        "plt.title(\"Model loss\")\n",
        "plt.xlabel(\"Epoch\")\n",
        "plt.ylabel(\"Loss\")\n",
        "plt.show()"
      ],
      "metadata": {
        "colab": {
          "base_uri": "https://localhost:8080/",
          "height": 295
        },
        "id": "3T26DwLcUKYJ",
        "outputId": "e7952be2-08f4-46eb-9279-afb15ea9b2b0"
      },
      "execution_count": 27,
      "outputs": [
        {
          "output_type": "display_data",
          "data": {
            "text/plain": [
              "<Figure size 432x288 with 1 Axes>"
            ],
            "image/png": "[encoded data removed]"
          },
          "metadata": {
            "needs_background": "light"
          }
        }
      ]
    },
    {
      "cell_type": "code",
      "source": [
        "plt.plot(history.history[\"val_accuracy\"])\n",
        "plt.title(\"Model validation accuracy\")\n",
        "plt.xlabel(\"Epoch\")\n",
        "plt.ylabel(\"Accuracy score\")\n",
        "plt.show()"
      ],
      "metadata": {
        "colab": {
          "base_uri": "https://localhost:8080/",
          "height": 295
        },
        "id": "hmNPeJd6UKjK",
        "outputId": "112c6185-eed0-48d8-94c8-baec43d6c287"
      },
      "execution_count": 28,
      "outputs": [
        {
          "output_type": "display_data",
          "data": {
            "text/plain": [
              "<Figure size 432x288 with 1 Axes>"
            ],
            "image/png": "[encoded data removed]"
          },
          "metadata": {
            "needs_background": "light"
          }
        }
      ]
    },
    {
      "cell_type": "code",
      "source": [
        "plt.plot(history.history[\"val_loss\"])\n",
        "plt.title(\"Model validation loss\")\n",
        "plt.xlabel(\"Epoch\")\n",
        "plt.ylabel(\"Loss\")\n",
        "plt.show()"
      ],
      "metadata": {
        "colab": {
          "base_uri": "https://localhost:8080/",
          "height": 295
        },
        "id": "Xq5Vy9SiUKtv",
        "outputId": "1653d46e-27ed-4b75-b90e-457732f5fbea"
      },
      "execution_count": 29,
      "outputs": [
        {
          "output_type": "display_data",
          "data": {
            "text/plain": [
              "<Figure size 432x288 with 1 Axes>"
            ],
            "image/png": "[encoded data removed]"
          },
          "metadata": {
            "needs_background": "light"
          }
        }
      ]
    },
    {
      "cell_type": "code",
      "source": [
        "!mkdir -p saved_model\n",
        "model.save('saved_model/my_model') "
      ],
      "metadata": {
        "id": "QRAdrgkCAh3Y",
        "colab": {
          "base_uri": "https://localhost:8080/"
        },
        "outputId": "a8e7d769-6d6b-48d6-8ae9-4561b3d18ee3"
      },
      "execution_count": 30,
      "outputs": [
        {
          "output_type": "stream",
          "name": "stdout",
          "text": [
            "INFO:tensorflow:Assets written to: saved_model/my_model/assets\n"
          ]
        }
      ]
    },
    {
      "cell_type": "code",
      "source": [
        "model.evaluate(X_test, Y_test_encode)"
      ],
      "metadata": {
        "colab": {
          "base_uri": "https://localhost:8080/"
        },
        "id": "YCFXZletXJtu",
        "outputId": "1da6adc9-168c-4f21-d901-89eec2e19ac5"
      },
      "execution_count": 31,
      "outputs": [
        {
          "output_type": "stream",
          "name": "stdout",
          "text": [
            "2/2 [==============================] - 0s 5ms/step - loss: 0.1772 - accuracy: 0.9286\n"
          ]
        },
        {
          "output_type": "execute_result",
          "data": {
            "text/plain": [
              "[0.17721818387508392, 0.9285714030265808]"
            ]
          },
          "metadata": {},
          "execution_count": 31
        }
      ]
    },
    {
      "cell_type": "code",
      "source": [
        "predict = model.predict(X_test)"
      ],
      "metadata": {
        "id": "h06wWSpFU3sw"
      },
      "execution_count": null,
      "outputs": []
    }
  ]
}